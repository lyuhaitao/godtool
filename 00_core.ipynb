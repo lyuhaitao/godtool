{
 "cells": [
  {
   "cell_type": "code",
   "execution_count": null,
   "metadata": {},
   "outputs": [],
   "source": [
    "# default_exp core"
   ]
  },
  {
   "cell_type": "markdown",
   "metadata": {},
   "source": [
    "# module name here\n",
    "\n",
    "> API details."
   ]
  },
  {
   "cell_type": "code",
   "execution_count": null,
   "metadata": {},
   "outputs": [],
   "source": [
    "#hide\n",
    "from nbdev.showdoc import *"
   ]
  },
  {
   "cell_type": "code",
   "execution_count": null,
   "metadata": {},
   "outputs": [],
   "source": [
    "#export\n",
    "import torch\n",
    "import torch.nn as nn\n",
    "import torch.nn.functional as F\n",
    "from torch.utils.data import Dataset\n",
    "import torchvision.models as TM"
   ]
  },
  {
   "cell_type": "code",
   "execution_count": null,
   "metadata": {},
   "outputs": [],
   "source": [
    "#export\n",
    "class LhtFile:\n",
    "    '''\n",
    "    capsulate the file name and file path\n",
    "    '''\n",
    "    def __init__(self,fileName, filePath):\n",
    "        self.file_name = fileName\n",
    "        self.file_path = filePath"
   ]
  },
  {
   "cell_type": "code",
   "execution_count": null,
   "metadata": {},
   "outputs": [],
   "source": [
    "#export\n",
    "class NepalModel(nn.Module):\n",
    "    def __init__(self):\n",
    "        super().__init__()\n",
    "        self.encoder = TM.resnet34(pretrained=True)\n",
    "        self.fc2 = nn.Linear(1000,2)\n",
    "    def forward(self,x):\n",
    "        x = F.relu(self.encoder(x))\n",
    "        x = torch.sigmoid(self.fc2(x))\n",
    "        return x"
   ]
  },
  {
   "cell_type": "code",
   "execution_count": null,
   "metadata": {},
   "outputs": [],
   "source": [
    "#export\n",
    "class NepalDataset(Dataset):\n",
    "    def __init__(self, ds, train=True, transform=None):\n",
    "        data = [i['data'] for i in ds]\n",
    "        categories = [i['category_id'] for i in ds]\n",
    "        self.data = data\n",
    "        self.categories = categories\n",
    "        self.train = train\n",
    "        self.transform = transform\n",
    "    def __len__(self):\n",
    "        return len(self.data)\n",
    "    def __getitem__(self, idx):\n",
    "        if torch.is_tensor(idx):\n",
    "            idx = idx.tolist()\n",
    "        d = self.data[idx]\n",
    "        #\n",
    "        if self.transform:\n",
    "            d = self.transform(d)\n",
    "        #\n",
    "        t = self.categories[idx]\n",
    "        t = np.array(t,dtype=np.int64)\n",
    "        t = torch.from_numpy(t)\n",
    "        rtn = (d,t)\n",
    "        return rtn\n",
    "\n"
   ]
  }
 ],
 "metadata": {
  "kernelspec": {
   "display_name": "Python 3 (ipykernel)",
   "language": "python",
   "name": "python3"
  }
 },
 "nbformat": 4,
 "nbformat_minor": 2
}
