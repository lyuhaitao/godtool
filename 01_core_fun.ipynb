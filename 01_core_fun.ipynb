{
 "cells": [
  {
   "cell_type": "code",
   "execution_count": null,
   "id": "09d44d65",
   "metadata": {},
   "outputs": [],
   "source": [
    "#default_exp funcs"
   ]
  },
  {
   "cell_type": "code",
   "execution_count": null,
   "id": "638268d0",
   "metadata": {},
   "outputs": [],
   "source": [
    "#export\n",
    "import os\n",
    "from torchvision import transforms\n",
    "from god import LhtFile\n",
    "import json\n",
    "import numpy as np\n",
    "import shutil\n",
    "import warnings"
   ]
  },
  {
   "cell_type": "code",
   "execution_count": null,
   "id": "afcfb629",
   "metadata": {},
   "outputs": [],
   "source": [
    "#export\n",
    "def lht_listMethodsOfObj(obj):\n",
    "    '''\n",
    "    return a dictionary to save attributes and functions of an object.\n",
    "    '''\n",
    "    warnings.filterwarnings(\"error\")\n",
    "    func_list = []\n",
    "    attr_list = []\n",
    "    # attribute is a string representing the attribute name\n",
    "    for attribute in dir(obj):\n",
    "        # Get attribute value\n",
    "        try:\n",
    "            attribute_value = getattr(obj, attribute)\n",
    "        except:\n",
    "            continue\n",
    "        # check that it is callable\n",
    "        if callable(attribute_value):\n",
    "            # filter all __prefix methods\n",
    "            if attribute.startswith('__') == False:\n",
    "                func_list.append(attribute)\n",
    "        else:\n",
    "            attr_list.append(attribute)\n",
    "    return {'attributes':attr_list, 'functions': func_list}"
   ]
  },
  {
   "cell_type": "code",
   "execution_count": null,
   "id": "40581a67",
   "metadata": {},
   "outputs": [],
   "source": [
    "#export\n",
    "def FindFilesByExtension(root_directory, extension):\n",
    "    ret = []\n",
    "    for (root, dirs, files) in os.walk(root_directory, topdown=True):\n",
    "        for f in files:\n",
    "            if f.endswith(extension):\n",
    "                fileName = f\n",
    "                filePath = os.path.join(root,f)\n",
    "                lhtFile = LhtFile(fileName,filePath)\n",
    "                ret.append(lhtFile)\n",
    "    return ret\n",
    "#"
   ]
  },
  {
   "cell_type": "code",
   "execution_count": null,
   "id": "91a9e9a1",
   "metadata": {},
   "outputs": [],
   "source": [
    "#hide\n",
    "root_directory = os.getcwd()\n",
    "extension = \".ipynb\"\n",
    "ret = FindFilesByExtension(root_directory, extension)\n",
    "for i in ret:\n",
    "    print(f\"{i.file_name}\")"
   ]
  },
  {
   "cell_type": "code",
   "execution_count": null,
   "id": "53f289cc",
   "metadata": {},
   "outputs": [],
   "source": [
    "#export\n",
    "def Lht_CreateTestDataset(matrix, xSize, ySize, step):\n",
    "    '''\n",
    "    generate slide windows\n",
    "    Parameters:\n",
    "        matrix: an image array, height X width X channel\n",
    "        xSize: width of a slide window\n",
    "        ySize: height of a slide window\n",
    "        step : length of slide step. \n",
    "    Returns:\n",
    "        rtn: a list of dictionary objects\n",
    "        {'data':d, 'bbox':bbox, 'category_id': -1}\n",
    "    '''\n",
    "    rtn = []\n",
    "    rowNum = len(matrix)\n",
    "    colNum = len(matrix[0])\n",
    "    for i in range(0, colNum, step):\n",
    "        for j in range(0, rowNum, step):\n",
    "            bbox = [i,j,xSize,ySize]\n",
    "            col,row,colSize, rowSize = bbox\n",
    "            d = matrix[row:row+rowSize, col:col+colSize,:]\n",
    "            a = {'data':d, 'bbox':bbox, 'category_id': -1}\n",
    "            rtn.append(a)\n",
    "    return rtn"
   ]
  },
  {
   "cell_type": "code",
   "execution_count": null,
   "id": "5ea98ad7",
   "metadata": {},
   "outputs": [],
   "source": [
    "#export\n",
    "def lht_compose_transforms(size):\n",
    "    '''\n",
    "    create torch composed transform object. PILImage object -> resized object -> tensor object\n",
    "    Parameter:\n",
    "        size: sequence or int. something like [h,w]\n",
    "    Return:\n",
    "        rtn: torchvision.transforms.transforms.Compose object\n",
    "    '''\n",
    "    ret = transforms.Compose([transforms.ToPILImage(), transforms.Resize(size),  transforms.ToTensor()])\n",
    "    return ret"
   ]
  },
  {
   "cell_type": "code",
   "execution_count": null,
   "id": "762ba727",
   "metadata": {},
   "outputs": [
    {
     "data": {
      "text/plain": [
       "torchvision.transforms.transforms.Compose"
      ]
     },
     "execution_count": null,
     "metadata": {},
     "output_type": "execute_result"
    }
   ],
   "source": [
    "#hide\n",
    "ret = lht_compose_transforms([224,224])\n",
    "type(ret)"
   ]
  },
  {
   "cell_type": "code",
   "execution_count": null,
   "id": "d26a6bfc",
   "metadata": {},
   "outputs": [],
   "source": [
    "#export\n",
    "def lht_load_json(file_path):\n",
    "    try:\n",
    "        with open(file_path, 'r') as f:\n",
    "            obj = json.load(f)\n",
    "        return obj\n",
    "    except FileNotFoundError as err:\n",
    "        print(err)\n",
    "        return -1\n",
    "    "
   ]
  },
  {
   "cell_type": "code",
   "execution_count": null,
   "id": "41b76b92",
   "metadata": {},
   "outputs": [
    {
     "name": "stdout",
     "output_type": "stream",
     "text": [
      "[Errno 2] No such file or directory: '321.json'\n"
     ]
    },
    {
     "data": {
      "text/plain": [
       "-1"
      ]
     },
     "execution_count": null,
     "metadata": {},
     "output_type": "execute_result"
    }
   ],
   "source": [
    "#hide\n",
    "ret = lht_load_json(\"321.json\")\n",
    "ret"
   ]
  },
  {
   "cell_type": "code",
   "execution_count": null,
   "id": "d8894e22",
   "metadata": {},
   "outputs": [],
   "source": [
    "#export\n",
    "def randomSelectSamples(jsonList, num):\n",
    "    '''\n",
    "    randomly select 'num' images from each folder.\n",
    "    Parameters:\n",
    "        jsonList: a list of json files\n",
    "        num: the number of you want\n",
    "    Return:\n",
    "        ret: a dictionary. \n",
    "            - ['images', 'type', 'annotations', 'categories']\n",
    "    '''\n",
    "    ret = {}\n",
    "    for js_id, js in enumerate(jsonList):\n",
    "        try:\n",
    "            obj_json = lht_load_json(js.file_path)\n",
    "            if obj_json == -1:\n",
    "                raise FileNotFoundError\n",
    "            n = len(obj_json['images'])\n",
    "\n",
    "            if n == 0:\n",
    "                raise ValueError(\"No value!\")\n",
    "            #\n",
    "            dirName = os.path.dirname(js.file_path)\n",
    "            objs = np.random.choice(obj_json['images'], num, replace=False)\n",
    "            obj_ids = [i['id'] for i in objs]\n",
    "            for obj in objs:\n",
    "                fp = dirName + \"\\\\\" + obj['file_name']\n",
    "                obj['file_path'] = fp\n",
    "            annotation = filter(lambda i: i['image_id'] in obj_ids, obj_json['annotations'])\n",
    "            annotation = list(annotation)\n",
    "            #\n",
    "            d = {'images': objs.tolist(), 'annotations': annotation, 'categories':obj_json['categories']}\n",
    "            ret[js_id] = d\n",
    "            #        \n",
    "        except FileNotFoundError as err:\n",
    "            continue\n",
    "        except ValueError as err:\n",
    "            continue\n",
    "    return ret\n",
    "#"
   ]
  },
  {
   "cell_type": "code",
   "execution_count": null,
   "id": "14b7b41c",
   "metadata": {},
   "outputs": [],
   "source": [
    "#export\n",
    "def lht_generate_cocojson(oldjson):\n",
    "    images = []\n",
    "    annotations = []\n",
    "    category = [{'id':0,'category_name': \"None\"}, {'id':1,'category_name': \"animal\"}]\n",
    "    #\n",
    "    im_idx = 0\n",
    "    bb_idx = 0\n",
    "    for i in oldjson.values():\n",
    "        for im in i['images']:\n",
    "            im_id = im['id']\n",
    "            im_ann = filter(lambda m: m['image_id']==im_id, i['annotations'])\n",
    "            im_ann = list(im_ann)\n",
    "            #\n",
    "            im_newID = im_idx\n",
    "            im['id'] = im_newID\n",
    "            images.append(im)\n",
    "            for an in im_ann:\n",
    "                an['image_id'] = im_newID\n",
    "                an['id'] = bb_idx\n",
    "                an['category_id'] = 1\n",
    "                bb_idx += 1\n",
    "                annotations.append(an)\n",
    "            #\n",
    "            im_idx += 1\n",
    "    #\n",
    "    ret = {'images':images, 'annotations':annotations, 'categories': category}\n",
    "    return ret\n",
    "#"
   ]
  },
  {
   "cell_type": "code",
   "execution_count": null,
   "id": "d937bc18",
   "metadata": {},
   "outputs": [],
   "source": [
    "#export\n",
    "def lhtGenerateTestData(source, destination, num):\n",
    "    '''\n",
    "    randomly copy n images from source folder to destination.\n",
    "    Parameters:\n",
    "        source: source directory path\n",
    "        destination: destination path\n",
    "        num: the number of images\n",
    "    Return:\n",
    "        ret_json: a json file that record the detail info of images\n",
    "    '''\n",
    "    target_dir = destination\n",
    "    rd = source\n",
    "    jsonList = FindFilesByExtension(rd,\".json\")\n",
    "    ret_json = randomSelectSamples(jsonList,num)\n",
    "    if os.path.exists(target_dir):\n",
    "        shutil.rmtree(target_dir)\n",
    "    os.mkdir(target_dir)\n",
    "    for v in ret_json.values():\n",
    "        for v_im in v['images']:\n",
    "            shutil.copy(v_im['file_path'], target_dir)\n",
    "            v_im.pop('file_path', None)\n",
    "    #\n",
    "    ret_coco = lht_generate_cocojson(ret_json)\n",
    "    fp = target_dir + \"\\\\\" + \"test.json\"\n",
    "    with open(fp, 'w') as fin:\n",
    "        json.dump(ret_coco, fin)\n",
    "    # \n",
    "    return ret_coco"
   ]
  },
  {
   "cell_type": "code",
   "execution_count": null,
   "id": "ee633052",
   "metadata": {},
   "outputs": [],
   "source": [
    "#export\n",
    "def searchImageByName(image_name,js_dict):\n",
    "    '''\n",
    "    search images by its name, and return its index in a json file.\n",
    "    Parameters:\n",
    "        image_name: an image's name\n",
    "        js_dict: a dictionary loaded from a json file, where save all details\n",
    "    Return:\n",
    "        a list where save the search results.\n",
    "    '''\n",
    "    images = js_dict['images']\n",
    "    m = filter(lambda i: i['file_name'] == image_name, images)\n",
    "    m = list(m)\n",
    "    return m if len(m) >0 else -1\n",
    "    "
   ]
  },
  {
   "cell_type": "code",
   "execution_count": null,
   "id": "2014dc51",
   "metadata": {},
   "outputs": [],
   "source": []
  },
  {
   "cell_type": "code",
   "execution_count": null,
   "id": "31f427b1",
   "metadata": {},
   "outputs": [],
   "source": [
    "# hide\n",
    "from nbdev.export import notebook2script\n",
    "notebook2script()"
   ]
  }
 ],
 "metadata": {
  "kernelspec": {
   "display_name": "env_py37",
   "language": "python",
   "name": "env_py37"
  }
 },
 "nbformat": 4,
 "nbformat_minor": 5
}
